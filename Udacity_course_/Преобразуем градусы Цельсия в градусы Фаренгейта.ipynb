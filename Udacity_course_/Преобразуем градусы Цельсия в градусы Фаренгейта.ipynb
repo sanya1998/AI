{
 "cells": [
  {
   "cell_type": "raw",
   "source": [
    "\"\"\"\n",
    "absolute_import - Позволяет в скобках заключать несколько операторов.\n",
    "Например,\n",
    "    from Tkinter import (Tk, Frame, Button, Entry, Canvas, Text,\n",
    "        LEFT, DISABLED, NORMAL, RIDGE, END)\n",
    "Вместо:\n",
    "    from Tkinter import Tk, Frame, Button, Entry, Canvas, Text, \\\n",
    "        LEFT, DISABLED, NORMAL, RIDGE, END\n",
    "\n",
    "division - Деление (x/y) стало нецелочисленным, вместо этого использовать (x//y)\n",
    "print_function - Связано с print(MESSAGE) и print MESSAGE\n",
    "unicode_literals - Связано с byte; sbytes('Hello world', 'ascii'); b'Hello world'\n",
    "\"\"\""
   ],
   "metadata": {
    "collapsed": false,
    "pycharm": {
     "name": "#%% raw\n"
    }
   }
  },
  {
   "cell_type": "code",
   "execution_count": 1,
   "metadata": {
    "collapsed": true
   },
   "outputs": [],
   "source": [
    "from __future__ import absolute_import\n",
    "from __future__ import (\n",
    "    division, #  (x/y) отличается от (x//y)\n",
    "    print_function,\n",
    "    unicode_literals)\n",
    "\n",
    "import tensorflow as tf_new\n",
    "tf = tf_new.compat.v1\n",
    "# tf.compat.v1.disable_v2_behavior()\n",
    "tf.logging.set_verbosity(tf.logging.ERROR)\n",
    "\n",
    "import numpy as np\n",
    "import matplotlib.pyplot as plt"
   ]
  },
  {
   "cell_type": "code",
   "execution_count": 2,
   "outputs": [
    {
     "name": "stdout",
     "output_type": "stream",
     "text": [
      "-40.0 *С = -40.0 *F\n",
      "-10.0 *С = 14.0 *F\n",
      "0.0 *С = 30.0 *F\n",
      "8.0 *С = 48.0 *F\n",
      "15.0 *С = 59.0 *F\n",
      "22.0 *С = 71.0 *F\n",
      "38.0 *С = 100.0 *F\n"
     ]
    }
   ],
   "source": [
    "celsius_q       = np.array([-40, -10, 0, 8, 15, 22, 38], dtype=float)\n",
    "# fahrenheit_a    = np.array([-40, 14, 32, 46, 59, 72, 100], dtype=float)\n",
    "# Зашумленные значения\n",
    "fahrenheit_a    = np.array([-40, 14, 30, 48, 59, 71, 100], dtype=float)\n",
    "\n",
    "for i,c in enumerate(celsius_q):\n",
    "    print(\"{} *С = {} *F\".format(c, fahrenheit_a[i]))"
   ],
   "metadata": {
    "collapsed": false,
    "pycharm": {
     "name": "#%%\n"
    }
   }
  },
  {
   "cell_type": "raw",
   "source": [
    "\"\"\"\n",
    "layer - слой\n",
    "Dense - полносвязанный слой\n",
    "Так как задача достаточно незамысловата, сеть будет состоять из единственного слоя, следовательно input_shape=[1]\n",
    "(размерность входных данных == размерность первого слоя == размерность всей модели),\n",
    "с единственным нейроном units=1 в слое\n",
    "\"\"\""
   ],
   "metadata": {
    "collapsed": false,
    "pycharm": {
     "name": "#%% raw\n"
    }
   }
  },
  {
   "cell_type": "code",
   "execution_count": 3,
   "outputs": [],
   "source": [
    "l0 = tf.keras.layers.Dense(units=1, input_shape=[1])"
   ],
   "metadata": {
    "collapsed": false,
    "pycharm": {
     "name": "#%%\n"
    }
   }
  },
  {
   "cell_type": "raw",
   "source": [
    "Sequential-модель принимает в качестве аргументов перечень слоёв"
   ],
   "metadata": {
    "collapsed": false
   }
  },
  {
   "cell_type": "code",
   "execution_count": 4,
   "outputs": [],
   "source": [
    "model = tf.keras.models.Sequential([l0])"
   ],
   "metadata": {
    "collapsed": false,
    "pycharm": {
     "name": "#%%\n"
    }
   }
  },
  {
   "cell_type": "raw",
   "source": [
    "\"\"\"\n",
    "model.compile - собрать модель перед тренировкой\n",
    "loss - функция потерь ('mean_squared_error' - среднеквадратичная ошибка)\n",
    "optimizer - функция оптимизации (функция Adam)\n",
    "learning_rate - коэффициент скорости/точности (+/-) обучения. Обычно находится в интервале от 0.01 (default) до 0.1\n",
    "\"\"\""
   ],
   "metadata": {
    "collapsed": false,
    "pycharm": {
     "name": "#%% raw\n"
    }
   }
  },
  {
   "cell_type": "code",
   "execution_count": 5,
   "outputs": [],
   "source": [
    "# model.compile(loss='mean_squared_error',\n",
    "model.compile(loss=tf.keras.losses.mean_squared_error,\n",
    "              optimizer=tf.keras.optimizers.Adam(learning_rate=0.1))"
   ],
   "metadata": {
    "collapsed": false,
    "pycharm": {
     "name": "#%%\n"
    }
   }
  },
  {
   "cell_type": "code",
   "source": [
    "\"\"\"\n",
    "Внутри метода fit цикл вычислений, сравнений и корректировки весов\n",
    "Первый аргумент - входные значения, второй аргумент - желаемые выходные значения.\n",
    "ephochs - количество раз этот обучающий цикл должен быть выполнен\n",
    "verbose контролирует уровень логгирования\n",
    "\"\"\""
   ],
   "metadata": {
    "collapsed": false,
    "pycharm": {
     "name": "#%%\n"
    }
   },
   "execution_count": 6,
   "outputs": [
    {
     "data": {
      "text/plain": "'\\nВнутри метода fit цикл вычислений, сравнений и корректировки весов\\nПервый аргумент - входные значения, второй аргумент - желаемые выходные значения.\\nephochs - количество раз этот обучающий цикл должен быть выполнен\\nverbose контролирует уровень логгирования\\n'"
     },
     "execution_count": 6,
     "metadata": {},
     "output_type": "execute_result"
    }
   ]
  },
  {
   "cell_type": "code",
   "execution_count": 7,
   "outputs": [
    {
     "name": "stdout",
     "output_type": "stream",
     "text": [
      "Закончена тренировка модели\n"
     ]
    }
   ],
   "source": [
    "fitted = model.fit(celsius_q, fahrenheit_a, epochs=500, verbose=False)\n",
    "print(\"Закончена тренировка модели\")"
   ],
   "metadata": {
    "collapsed": false,
    "pycharm": {
     "name": "#%%\n"
    }
   }
  },
  {
   "cell_type": "code",
   "execution_count": 8,
   "outputs": [
    {
     "data": {
      "text/plain": "[<matplotlib.lines.Line2D at 0x231a86271c0>]"
     },
     "execution_count": 8,
     "metadata": {},
     "output_type": "execute_result"
    },
    {
     "data": {
      "text/plain": "<Figure size 432x288 with 1 Axes>",
      "image/png": "[encoded data removed]"
     },
     "metadata": {
      "needs_background": "light"
     },
     "output_type": "display_data"
    }
   ],
   "source": [
    "plt.xlabel('Eroch')\n",
    "plt.ylabel('Loss')\n",
    "plt.plot(fitted.history['loss'])"
   ],
   "metadata": {
    "collapsed": false,
    "pycharm": {
     "name": "#%%\n"
    }
   }
  },
  {
   "cell_type": "code",
   "execution_count": 9,
   "outputs": [
    {
     "name": "stdout",
     "output_type": "stream",
     "text": [
      "[[211.15933]]\n"
     ]
    }
   ],
   "source": [
    "print(model.predict([100.0])) # 212 правильно"
   ],
   "metadata": {
    "collapsed": false,
    "pycharm": {
     "name": "#%%\n"
    }
   }
  },
  {
   "cell_type": "raw",
   "source": [
    "Значения внутренних переменных Dense-слоя"
   ],
   "metadata": {
    "collapsed": false,
    "pycharm": {
     "name": "#%% raw\n"
    }
   }
  },
  {
   "cell_type": "code",
   "execution_count": 10,
   "outputs": [
    {
     "name": "stdout",
     "output_type": "stream",
     "text": [
      "Это значения переменных слоя: [array([[1.8213818]], dtype=float32), array([29.02115], dtype=float32)]\n"
     ]
    }
   ],
   "source": [
    "print(\"Это значения переменных слоя: {}\".format(l0.get_weights())) # 1.8 и 32 правильно"
   ],
   "metadata": {
    "collapsed": false,
    "pycharm": {
     "name": "#%%\n"
    }
   }
  },
  {
   "cell_type": "markdown",
   "source": [
    "# Эксперименты!!!"
   ],
   "metadata": {
    "collapsed": false,
    "pycharm": {
     "name": "#%% md\n"
    }
   }
  },
  {
   "cell_type": "code",
   "execution_count": 11,
   "outputs": [
    {
     "name": "stdout",
     "output_type": "stream",
     "text": [
      "Закончили обучение модели\n",
      "Модель предсказала, что 100 градусов Цельсия соответствуют [[211.57199]] градусам Фаренгейта\n",
      "Значения внутренних переменных слоя l0: [array([[-0.9308937 , -0.319364  ,  0.66846013,  0.12338687]],\n",
      "      dtype=float32), array([-3.536098 ,  3.2948062,  3.6548054, -2.0362124], dtype=float32)]\n",
      "Значения внутренних переменных слоя l1: [array([[ 0.12833567,  1.1746342 , -0.19311677, -0.44995835],\n",
      "       [ 0.05384976, -1.649413  ,  1.4535172 , -0.05634498],\n",
      "       [-0.17889112, -1.1933497 ,  0.83747727, -0.20588104],\n",
      "       [-0.0214994 ,  0.5046737 ,  0.05103582,  0.6233846 ]],\n",
      "      dtype=float32), array([ 2.1926086, -3.5278375,  3.6112516,  2.3075798], dtype=float32)]\n",
      "Значения внутренних переменных слоя l2: [array([[-0.05010744],\n",
      "       [-1.2150022 ],\n",
      "       [ 0.47087976],\n",
      "       [ 0.18582621]], dtype=float32), array([3.409356], dtype=float32)]\n"
     ]
    }
   ],
   "source": [
    "l0 = tf.keras.layers.Dense(units=4, input_shape=[1])\n",
    "l1 = tf.keras.layers.Dense(units=4)\n",
    "l2 = tf.keras.layers.Dense(units=1)\n",
    "model = tf.keras.Sequential([l0, l1, l2])\n",
    "model.compile(loss=\"mean_squared_error\", optimizer=tf.keras.optimizers.Adam(learning_rate=0.1))\n",
    "model.fit(celsius_q, fahrenheit_a, epochs=500, verbose=False)\n",
    "print(\"Закончили обучение модели\")\n",
    "print(\"Модель предсказала, что 100 градусов Цельсия соответствуют {} градусам Фаренгейта\".format(model.predict([100.0])))\n",
    "print(\"Значения внутренних переменных слоя l0: {}\".format(l0.get_weights()))\n",
    "print(\"Значения внутренних переменных слоя l1: {}\".format(l1.get_weights()))\n",
    "print(\"Значения внутренних переменных слоя l2: {}\".format(l2.get_weights()))"
   ],
   "metadata": {
    "collapsed": false,
    "pycharm": {
     "name": "#%%\n"
    }
   }
  }
 ],
 "metadata": {
  "kernelspec": {
   "display_name": "Python 3",
   "language": "python",
   "name": "python3"
  },
  "language_info": {
   "codemirror_mode": {
    "name": "ipython",
    "version": 2
   },
   "file_extension": ".py",
   "mimetype": "text/x-python",
   "name": "python",
   "nbconvert_exporter": "python",
   "pygments_lexer": "ipython2",
   "version": "2.7.6"
  }
 },
 "nbformat": 4,
 "nbformat_minor": 0
}