{
 "cells": [
  {
   "cell_type": "code",
   "execution_count": 1,
   "metadata": {
    "collapsed": true
   },
   "outputs": [],
   "source": [
    "import matplotlib.pyplot as plt\n",
    "import numpy as np\n",
    "from numpy import ndarray\n",
    "\n",
    "from typing import Callable\n",
    "from typing import List"
   ]
  },
  {
   "cell_type": "code",
   "execution_count": 2,
   "outputs": [],
   "source": [
    "def square(x: ndarray) -> ndarray:\n",
    "    \"\"\"\n",
    "    Возведение в квадрат каждого элемента объекта x\n",
    "    :param x: [1 2 3]\n",
    "    :return: [1 4 9]\n",
    "    \"\"\"\n",
    "    return np.power(x, 2)\n",
    "def leaky_relu(x: ndarray) -> ndarray:\n",
    "    \"\"\"\n",
    "    Применение функции \"Leaky ReLU\" к каждому элементу x\n",
    "    :param x:\n",
    "    :return:\n",
    "    \"\"\"\n",
    "    return np.maximum(0.2 * x, x)\n",
    "def sigmoid(x: ndarray) -> ndarray:\n",
    "    \"\"\"\n",
    "    Применение сигмоидной функции к каждому элементу объекта ndarray\n",
    "    :param x:\n",
    "    :return:\n",
    "    \"\"\"\n",
    "    return 1 / (1 + np.exp(-x))"
   ],
   "metadata": {
    "collapsed": false,
    "pycharm": {
     "name": "#%%\n"
    }
   }
  },
  {
   "cell_type": "code",
   "execution_count": 3,
   "outputs": [],
   "source": [
    "def deriv(func:Callable[[ndarray], ndarray],\n",
    "          input_: ndarray,\n",
    "          delta: float = 0.00001) -> ndarray:\n",
    "    \"\"\"\n",
    "    Вычисление производной функции func в каждом элементе массива input_\n",
    "    :param func:\n",
    "    :param input_:\n",
    "    :param delta:\n",
    "    :return:\n",
    "    \"\"\"\n",
    "    return (func(input_ + delta) - func(input_ - delta)) / (2 * delta)"
   ],
   "metadata": {
    "collapsed": false,
    "pycharm": {
     "name": "#%%\n"
    }
   }
  },
  {
   "cell_type": "code",
   "execution_count": 4,
   "outputs": [],
   "source": [
    "# Определяем типы аргументов функции и тип возвращаемого объекта\n",
    "# Функция типа Array_Function принимает массив (Array) ndarray и возвращает ndarray\n",
    "Array_Function = Callable[[ndarray], ndarray]\n",
    "# Список функций, каждая из которых Array_Function\n",
    "Chain = List[Array_Function]"
   ],
   "metadata": {
    "collapsed": false,
    "pycharm": {
     "name": "#%%\n"
    }
   }
  },
  {
   "cell_type": "code",
   "execution_count": 5,
   "outputs": [],
   "source": [
    "def chain_length_2(chain: Chain,\n",
    "                   input_: ndarray) -> ndarray:\n",
    "    \"\"\"\n",
    "    Вычисляет подряд значение двух функций в объекте \"Chain\"\n",
    "    :param chain:\n",
    "    :param input_:\n",
    "    :return:\n",
    "    \"\"\"\n",
    "    assert len(chain) == 2, \\\n",
    "    \"Длина объекта chain должна быть равна 2\"\n",
    "\n",
    "    f1 = chain[0]\n",
    "    f2 = chain[1]\n",
    "\n",
    "    return f2(f1(input_))\n",
    "def chain_deriv_2(chain: Chain,\n",
    "                  input_range: ndarray) -> ndarray:\n",
    "    \"\"\"\n",
    "    Вычисление производной двух вложенных функций:\n",
    "    (f2(f1(x))' = f2'(f1(x)) * f1'(x) с помощью цепного правила\n",
    "    :param chain:\n",
    "    :param input_range:\n",
    "    :return:\n",
    "    \"\"\"\n",
    "    assert len(chain) == 2, \\\n",
    "    \"Для этой функции нужны объекты Chain длиной 2\"\n",
    "\n",
    "    assert input_range.ndim == 1, \\\n",
    "    \"Число измерений (осей) входных данных функции задает 1-мерный объект ndarray\"\n",
    "\n",
    "    f1 = chain[0]\n",
    "    f2 = chain[1]\n",
    "\n",
    "    #f1(x)\n",
    "    f1_of_x = f1(input_range)\n",
    "\n",
    "    #df1/du\n",
    "    df1dx = deriv(f1, input_range)\n",
    "\n",
    "    #df2/du(f1(x))\n",
    "    df2du = deriv(f2, f1_of_x)\n",
    "\n",
    "    # Поэлементно перемножаем полученные значения\n",
    "    return df2du * df1dx"
   ],
   "metadata": {
    "collapsed": false,
    "pycharm": {
     "name": "#%%\n"
    }
   }
  },
  {
   "cell_type": "code",
   "execution_count": 6,
   "outputs": [],
   "source": [
    "def chain_length_3(chain: Chain,\n",
    "                   input_: ndarray) -> ndarray:\n",
    "    \"\"\"\n",
    "    Считает результат трех вложенных функций\n",
    "    :param chain:\n",
    "    :param input_:\n",
    "    :return:\n",
    "    \"\"\"\n",
    "    assert len(chain) == 3, \\\n",
    "    \"Длина цепочки должна быть 3\"\n",
    "\n",
    "    f1 = chain[0]\n",
    "    f2 = chain[1]\n",
    "    f3 = chain[2]\n",
    "\n",
    "    return f3(f2(f1(input_)))\n",
    "def chain_deriv_3(chain: Chain,\n",
    "                  input_range: ndarray) -> ndarray:\n",
    "    \"\"\"\n",
    "    Вычисление производной трех вложенных функций:\n",
    "    (f3(f2(f1)))' = f3'(f2(f1(x))) * f2'(f1(x)) * f1'(x) с помощью цепного правила\n",
    "    :param chain:\n",
    "    :param input_range:\n",
    "    :return:\n",
    "    \"\"\"\n",
    "\n",
    "    assert len(chain) == 3, \\\n",
    "    \"Для этой функции нужны объекты 'chain' длиной 3\"\n",
    "    f1 =chain[0]\n",
    "    f2 =chain[1]\n",
    "    f3 =chain[2]\n",
    "\n",
    "    f1_of_x = f1(input_range)\n",
    "    f2_of_x = f2(f1_of_x)\n",
    "\n",
    "    df3du = deriv(f3, f2_of_x)\n",
    "    df2du = deriv(f2, f1_of_x)\n",
    "    df1dx = deriv(f1, input_range)\n",
    "\n",
    "    # Поэлементно перемножаем полученные значения\n",
    "    return df3du * df2du * df1dx"
   ],
   "metadata": {
    "collapsed": false,
    "pycharm": {
     "name": "#%%\n"
    }
   }
  },
  {
   "cell_type": "code",
   "execution_count": 7,
   "outputs": [],
   "source": [
    "def plot_chain(ax,\n",
    "               chain: Chain,\n",
    "               input_range: ndarray) -> None:\n",
    "    \"\"\"\n",
    "    Строит цепную функцию\n",
    "    :param ax: matplotlib Subplot for plotting\n",
    "    :param chain:\n",
    "    :param input_tange:\n",
    "    :return:\n",
    "    \"\"\"\n",
    "    assert  input_range.ndim == 1, \\\n",
    "        \"Число измерений (осей) входных данных функции задает 1-мерный объект ndarray\"\n",
    "    if len(chain) == 2:\n",
    "        func_ = chain_length_2\n",
    "    elif len(chain) == 3:\n",
    "        func_ = chain_length_3\n",
    "    else:\n",
    "        func_ = None\n",
    "    output_range = func_(chain, input_range)\n",
    "    ax.plot(input_range, output_range)\n",
    "def plot_chain_deriv(ax,\n",
    "                     chain: Chain,\n",
    "                     input_range: ndarray) -> None:\n",
    "    \"\"\"\n",
    "    Использует цепное правило для построения произвдной функции, состоящей из двух вложенных функций\n",
    "    :param ax:\n",
    "    :param chain:\n",
    "    :param input_range:\n",
    "    :return:\n",
    "    \"\"\"\n",
    "\n",
    "    if len(chain) == 2:\n",
    "        func_ = chain_deriv_2\n",
    "    elif len(chain) == 3:\n",
    "        func_ = chain_deriv_3\n",
    "    else:\n",
    "        func_ = None\n",
    "    output_range = func_(chain, input_range)\n",
    "    ax.plot(input_range, output_range)"
   ],
   "metadata": {
    "collapsed": false,
    "pycharm": {
     "name": "#%%\n"
    }
   }
  },
  {
   "cell_type": "code",
   "execution_count": 8,
   "outputs": [
    {
     "data": {
      "text/plain": "Text(0.5, 1.0, 'Array_Function and derivative for\\n$f(x)=square(sigmoid(x))$')"
     },
     "execution_count": 8,
     "metadata": {},
     "output_type": "execute_result"
    },
    {
     "data": {
      "text/plain": "<Figure size 1152x576 with 2 Axes>",
      "image/png": "[encoded data removed]"
     },
     "metadata": {
      "needs_background": "light"
     },
     "output_type": "display_data"
    }
   ],
   "source": [
    "# sharey - совместное использование свойств между осями\n",
    "fig, ax = plt.subplots(1, 2, sharey='all', figsize=(16,8))\n",
    "PLOT_RANGE = np.arange(-3, 3, 0.01)\n",
    "\n",
    "chain_1 = [square, sigmoid]\n",
    "chain_2 = [sigmoid, square]\n",
    "\n",
    "plot_chain(ax[0], chain_1, PLOT_RANGE)\n",
    "plot_chain_deriv(ax[0], chain_1, PLOT_RANGE)\n",
    "\n",
    "# Запись в виде дроби\n",
    "ax[0].legend([\"$f(x)$\", \"$\\\\frac{df}{dx}$\"])\n",
    "ax[0].set_title(\"Array_Function and derivative for\\n$f(x)=sigmoid(square(x))$\")\n",
    "\n",
    "plot_chain(ax[1], chain_2, PLOT_RANGE)\n",
    "plot_chain_deriv(ax[1], chain_2, PLOT_RANGE)\n",
    "\n",
    "ax[1].legend([\"$f(x)$\", \"$\\\\frac{df}{dx}$\"])\n",
    "ax[1].set_title(\"Array_Function and derivative for\\n$f(x)=square(sigmoid(x))$\")"
   ],
   "metadata": {
    "collapsed": false,
    "pycharm": {
     "name": "#%%\n"
    }
   }
  },
  {
   "cell_type": "code",
   "execution_count": 9,
   "outputs": [
    {
     "data": {
      "text/plain": "<Figure size 1152x576 with 1 Axes>",
      "image/png": "[encoded data removed]"
     },
     "metadata": {
      "needs_background": "light"
     },
     "output_type": "display_data"
    }
   ],
   "source": [
    "fig, ax = plt.subplots(1, 1, sharey='all', figsize=(16,8))\n",
    "\n",
    "chain_3 = [leaky_relu, sigmoid, square]\n",
    "plot_chain(ax, chain_3, PLOT_RANGE)\n",
    "plot_chain_deriv(ax, chain_3, PLOT_RANGE)"
   ],
   "metadata": {
    "collapsed": false,
    "pycharm": {
     "name": "#%%\n"
    }
   }
  },
  {
   "cell_type": "code",
   "execution_count": 10,
   "outputs": [],
   "source": [
    "def multiple_inputs_add(x: ndarray,\n",
    "                        y: ndarray,\n",
    "                        sigma: Array_Function) -> float:\n",
    "    \"\"\"\n",
    "    Функция сложения двух переменных, прямой проход\n",
    "    :param x:\n",
    "    :param y:\n",
    "    :param sigma:\n",
    "    :return:\n",
    "    \"\"\"\n",
    "    assert x.shape == y.shape\n",
    "    a = x + y\n",
    "    return sigma(a)"
   ],
   "metadata": {
    "collapsed": false,
    "pycharm": {
     "name": "#%%\n"
    }
   }
  },
  {
   "cell_type": "code",
   "execution_count": 11,
   "outputs": [],
   "source": [
    "def multiple_input_add_backward(x: ndarray,\n",
    "                                y: ndarray,\n",
    "                                sigma: Array_Function) -> float:\n",
    "    \"\"\"\n",
    "    Вычисление производной функции сложения\n",
    "    по обеим переменным\n",
    "    :param x:\n",
    "    :param y:\n",
    "    :param sigma:\n",
    "    :return:\n",
    "    \"\"\"\n",
    "    # \"Прямой проход\"\n",
    "    a = x + y\n",
    "    # Вычисление производных\n",
    "    dsda = deriv(sigma, a)\n",
    "\n",
    "    dadx, dady = 1, 1\n",
    "\n",
    "    return dsda * dadx, dsda * dady\n",
    "\n",
    "def multiple_input_multiply_backward(x: ndarray,\n",
    "                                     y: ndarray,\n",
    "                                     sigma: Array_Function) -> float:\n",
    "    \"\"\"\n",
    "    Вычисление производной функции умножения\n",
    "    по обеим переменным\n",
    "    :param x:\n",
    "    :param y:\n",
    "    :param sigma:\n",
    "    :return:\n",
    "    \"\"\"\n",
    "    # Прямой проход\n",
    "    a = x * y\n",
    "    # Вычисление производных\n",
    "    dsda = deriv(sigma, a)\n",
    "\n",
    "    dadx, dady = y, x\n",
    "\n",
    "    return dsda * dadx, dsda * dady"
   ],
   "metadata": {
    "collapsed": false,
    "pycharm": {
     "name": "#%%\n"
    }
   }
  },
  {
   "cell_type": "code",
   "execution_count": 12,
   "outputs": [],
   "source": [
    "def matmul_forward(X: ndarray,\n",
    "                   W: ndarray) -> ndarray:\n",
    "    \"\"\"\n",
    "    Прямой проход при умножении матриц\n",
    "    :param X:\n",
    "    :param W:\n",
    "    :return:\n",
    "    \"\"\"\n",
    "    assert X.shape[1] == W.shape[0], \\\n",
    "    \"Число столбцов X ({0}) должно совпадать c\" \\\n",
    "    \"числом строк W ({1})\".format(X.shape[1], W.shape[0])\n",
    "\n",
    "    # Умножение матриц\n",
    "    return np.dot(X, W)\n",
    "\n",
    "def matmul_backward_first(X: ndarray,\n",
    "                          W: ndarray) -> ndarray:\n",
    "    \"\"\"\n",
    "    Обратный проход для операции умножения матриц по первому аргументу\n",
    "    :param X:\n",
    "    :param W:\n",
    "    :return:\n",
    "    \"\"\"\n",
    "    # обратный проход\n",
    "    dNdX = np.transpose(W, (1, 0))\n",
    "\n",
    "    return  dNdX"
   ],
   "metadata": {
    "collapsed": false,
    "pycharm": {
     "name": "#%%\n"
    }
   }
  },
  {
   "cell_type": "code",
   "execution_count": 13,
   "outputs": [
    {
     "name": "stdout",
     "output_type": "stream",
     "text": [
      "[[ 0.47231121  0.61514271 -1.72622715]]\n",
      "[[ 0.92819676]\n",
      " [-0.60754888]\n",
      " [-1.22136052]]\n"
     ]
    },
    {
     "data": {
      "text/plain": "array([[ 0.92819676, -0.60754888, -1.22136052]])"
     },
     "execution_count": 13,
     "metadata": {},
     "output_type": "execute_result"
    }
   ],
   "source": [
    "np.random.seed(190203)\n",
    "X = np.random.randn(1, 3)\n",
    "W = np.random.randn(3, 1)\n",
    "\n",
    "print(X)\n",
    "print(W)\n",
    "matmul_backward_first(X, W)"
   ],
   "metadata": {
    "collapsed": false,
    "pycharm": {
     "name": "#%%\n"
    }
   }
  },
  {
   "cell_type": "code",
   "execution_count": 14,
   "outputs": [],
   "source": [
    "def matrix_forward_extra(X: ndarray,\n",
    "                         W: ndarray,\n",
    "                         sigma: Array_Function) -> ndarray:\n",
    "    \"\"\"\n",
    "    Вычисление функции, в которой результат умножения матриц\n",
    "    передается в следующую функцию\n",
    "    :param X:\n",
    "    :param W:\n",
    "    :param sigma:\n",
    "    :return:\n",
    "    \"\"\"\n",
    "    assert X.shape[1] == W.shape[0]\n",
    "\n",
    "    N = np.dot(X, W)\n",
    "    S = sigma(N)\n",
    "    return S\n",
    "\n",
    "def matrix_function_backward_1(X: ndarray,\n",
    "                               W: ndarray,\n",
    "                               sigma: Array_Function) -> ndarray:\n",
    "    \"\"\"\n",
    "    Вычисление частной производной функции по первому аргументу\n",
    "    :param X:\n",
    "    :param W:\n",
    "    :param sigma:\n",
    "    :return:\n",
    "    \"\"\"\n",
    "    assert X.shape[1] == W.shape[0]\n",
    "\n",
    "    # уножение матриц\n",
    "    N = np.dot(X, W)\n",
    "\n",
    "    # передача результата умножения матриц в функцию сигма\n",
    "    S = sigma(N)\n",
    "\n",
    "    # обратный проход\n",
    "    dSdN = deriv(sigma, N)\n",
    "\n",
    "    # Замена осей 1 и 0\n",
    "    dNdX = np.transpose(W, (1, 0))\n",
    "    # Порядок множителей не имеет значение, т.к. dNdX (1x1)\n",
    "    return np.dot(dSdN, dNdX)"
   ],
   "metadata": {
    "collapsed": false,
    "pycharm": {
     "name": "#%%\n"
    }
   }
  },
  {
   "cell_type": "code",
   "execution_count": 15,
   "outputs": [
    {
     "name": "stdout",
     "output_type": "stream",
     "text": [
      "-0.0010927177765746587\n",
      "-0.0011206626186825695\n"
     ]
    }
   ],
   "source": [
    "# Проверка моим кодом\n",
    "check1 = matrix_function_backward_1(X, W, sigmoid)\n",
    "num = 0.01\n",
    "X[0, 2] += num\n",
    "check2 = matrix_function_backward_1(X, W, sigmoid)\n",
    "\n",
    "# Если значения близки, то цепное правило работает\n",
    "print(check2[0][2] - check1[0][2])\n",
    "print(num * check1[0][2])"
   ],
   "metadata": {
    "collapsed": false,
    "pycharm": {
     "name": "#%%\n"
    }
   }
  },
  {
   "cell_type": "code",
   "execution_count": 16,
   "outputs": [],
   "source": [
    "# Проверка их кодом\n",
    "def forward_test(ind1, ind2, inc):\n",
    "    X1 = X.copy()\n",
    "    X1[ind1, ind2] = X[ind1, ind2] + inc\n",
    "\n",
    "    return matrix_forward_extra(X1, W, sigmoid)"
   ],
   "metadata": {
    "collapsed": false,
    "pycharm": {
     "name": "#%%\n"
    }
   }
  },
  {
   "cell_type": "code",
   "execution_count": 17,
   "outputs": [
    {
     "name": "stdout",
     "output_type": "stream",
     "text": [
      "[[-0.11]]\n",
      "-0.11\n"
     ]
    }
   ],
   "source": [
    "print((np.round(forward_test(0, 2, 0.01) - forward_test(0, 2, 0), 4)) / 0.01)\n",
    "print(np.round(matrix_function_backward_1(X, W, sigmoid)[0, 2], 2))"
   ],
   "metadata": {
    "collapsed": false,
    "pycharm": {
     "name": "#%%\n"
    }
   }
  },
  {
   "cell_type": "code",
   "execution_count": 18,
   "outputs": [],
   "source": [
    "def matrix_function_forward_sum(X: ndarray,\n",
    "                                W: ndarray,\n",
    "                                sigma: Array_Function) -> float:\n",
    "    \"\"\"\n",
    "    Прямой проход функции объектов ndarray X, W и функции sigma\n",
    "    :param X:\n",
    "    :param W:\n",
    "    :param sigma:\n",
    "    :return:\n",
    "    \"\"\"\n",
    "    assert X.shape[1] == W.shape[0]\n",
    "\n",
    "    # умножение матриц\n",
    "    N = np.dot(X, W)\n",
    "\n",
    "    # передача результата умножения матриц в функцию сигма\n",
    "    S = sigma(N)\n",
    "\n",
    "    # сумма всех элементов\n",
    "    L = np.sum(S)\n",
    "\n",
    "    return L"
   ],
   "metadata": {
    "collapsed": false,
    "pycharm": {
     "name": "#%%\n"
    }
   }
  },
  {
   "cell_type": "code",
   "execution_count": 19,
   "outputs": [],
   "source": [
    "def matrix_function_backward_sum_1(X: ndarray,\n",
    "                                   W: ndarray,\n",
    "                                   sigma: Array_Function) -> ndarray:\n",
    "    \"\"\"\n",
    "    Вычисление производной функции по первому матричному аргументу\n",
    "    :param X:\n",
    "    :param W:\n",
    "    :param sigma:\n",
    "    :return:\n",
    "    \"\"\"\n",
    "    assert X.shape[1] == W.shape[0]\n",
    "\n",
    "    # умножение матриц\n",
    "    N = np.dot(X, W)\n",
    "\n",
    "    # передача результата умножения матриц в функцию сигма\n",
    "    S = sigma(N)\n",
    "\n",
    "    # суммирование всех элементов\n",
    "    L = np.sum(S)\n",
    "\n",
    "    # матрица из единиц такого же размера и такой же формы как S\n",
    "    dLdS = np.ones_like(S)\n",
    "\n",
    "    dSdN = deriv(sigma, N)\n",
    "\n",
    "    dNdX = np.transpose(W, (1, 0))\n",
    "\n",
    "    dLdX = np.dot(dSdN, dNdX)\n",
    "\n",
    "    return dLdX"
   ],
   "metadata": {
    "collapsed": false,
    "pycharm": {
     "name": "#%%\n"
    }
   }
  },
  {
   "cell_type": "code",
   "execution_count": 20,
   "outputs": [
    {
     "name": "stdout",
     "output_type": "stream",
     "text": [
      "X:\n",
      "[[-1.57752816 -0.6664228   0.63910406]\n",
      " [-0.56152218  0.73729959 -1.42307821]\n",
      " [-1.44348429 -0.39128029  0.1539322 ]]\n",
      "L:\n",
      "2.3755\n",
      "\n",
      "dLdX:\n",
      "[[ 0.24888872 -0.3747806   0.01121963]\n",
      " [ 0.12604152 -0.27807406 -0.13945839]\n",
      " [ 0.229928   -0.36623446 -0.02252593]]\n"
     ]
    }
   ],
   "source": [
    "# CHECK\n",
    "np.random.seed(190204)\n",
    "X = np.random.randn(3, 3)\n",
    "W = np.random.randn(3, 2)\n",
    "\n",
    "print(\"X:\")\n",
    "print(X)\n",
    "print(\"L:\")\n",
    "print(round(matrix_function_forward_sum(X, W, sigmoid), 4))\n",
    "print()\n",
    "print(\"dLdX:\")\n",
    "dLdX = matrix_function_backward_sum_1(X, W, sigmoid)\n",
    "print(dLdX)"
   ],
   "metadata": {
    "collapsed": false,
    "pycharm": {
     "name": "#%%\n"
    }
   }
  },
  {
   "cell_type": "code",
   "execution_count": 21,
   "outputs": [
    {
     "name": "stdout",
     "output_type": "stream",
     "text": [
      "0.2489\n"
     ]
    }
   ],
   "source": [
    "X1 = X.copy()\n",
    "num = 0.001\n",
    "X1[0, 0] += num\n",
    "\n",
    "print(round(\n",
    "    (matrix_function_forward_sum(X1, W, sigmoid) -\n",
    "     matrix_function_forward_sum(X, W, sigmoid)) / num,\n",
    "    4))"
   ],
   "metadata": {
    "collapsed": false,
    "pycharm": {
     "name": "#%%\n"
    }
   }
  },
  {
   "cell_type": "code",
   "execution_count": 22,
   "outputs": [],
   "source": [
    "def matrix_function_forward_sum(X: ndarray,\n",
    "                                W: ndarray,\n",
    "                                sigma: Array_Function,\n",
    "                                modify_x11: bool = False,\n",
    "                                x11: float = 0.5) -> float:\n",
    "    \"\"\"\n",
    "    Вчисление результата прямого прохода на этой функциис\n",
    "    входными тензорами X и W и функцией sigma\n",
    "    :param X:\n",
    "    :param W:\n",
    "    :param sigma:\n",
    "    :param modify_x11:\n",
    "    :param x11:\n",
    "    :return:\n",
    "    \"\"\"\n",
    "    assert X.shape[1] == W.shape[0]\n",
    "\n",
    "    if modify_x11:\n",
    "        X1 = X.copy()\n",
    "        X1[0][0] = x11\n",
    "    N = np.dot(X1, W)\n",
    "\n",
    "    S= sigma(N)\n",
    "\n",
    "    L = np.sum(S)\n",
    "    return L"
   ],
   "metadata": {
    "collapsed": false,
    "pycharm": {
     "name": "#%%\n"
    }
   }
  },
  {
   "cell_type": "code",
   "execution_count": 23,
   "outputs": [
    {
     "name": "stdout",
     "output_type": "stream",
     "text": [
      "X:\n",
      "[[-1.57752816 -0.6664228   0.63910406]\n",
      " [-0.56152218  0.73729959 -1.42307821]\n",
      " [-1.44348429 -0.39128029  0.1539322 ]]\n"
     ]
    }
   ],
   "source": [
    "print(\"X:\")\n",
    "print(X)"
   ],
   "metadata": {
    "collapsed": false,
    "pycharm": {
     "name": "#%%\n"
    }
   }
  },
  {
   "cell_type": "code",
   "execution_count": 24,
   "outputs": [
    {
     "data": {
      "text/plain": "Text(0, 0.5, '$L$')"
     },
     "execution_count": 24,
     "metadata": {},
     "output_type": "execute_result"
    },
    {
     "data": {
      "text/plain": "<Figure size 432x288 with 1 Axes>",
      "image/png": "[encoded data removed]"
     },
     "metadata": {
      "needs_background": "light"
     },
     "output_type": "display_data"
    }
   ],
   "source": [
    "x11s = np.arange(X[0][0] - 1, X[0][0] + 1, 0.01)\n",
    "Ls = [matrix_function_forward_sum(X, W, sigmoid,\n",
    "                                  modify_x11=True,\n",
    "                                  x11=x11) for x11 in x11s]\n",
    "plt.plot(x11s, Ls)\n",
    "plt.xlabel(\"$x_{11}$\")\n",
    "plt.ylabel(\"$L$\")\n"
   ],
   "metadata": {
    "collapsed": false,
    "pycharm": {
     "name": "#%%\n"
    }
   }
  },
  {
   "cell_type": "code",
   "execution_count": 25,
   "outputs": [
    {
     "name": "stdout",
     "output_type": "stream",
     "text": [
      "Угол наклона должен быть примерно 0.24888871824552924\n"
     ]
    }
   ],
   "source": [
    "print(\"Угол наклона должен быть примерно\", dLdX[0][0])"
   ],
   "metadata": {
    "collapsed": false,
    "pycharm": {
     "name": "#%%\n"
    }
   }
  }
 ],
 "metadata": {
  "kernelspec": {
   "display_name": "Python 3",
   "language": "python",
   "name": "python3"
  },
  "language_info": {
   "codemirror_mode": {
    "name": "ipython",
    "version": 2
   },
   "file_extension": ".py",
   "mimetype": "text/x-python",
   "name": "python",
   "nbconvert_exporter": "python",
   "pygments_lexer": "ipython2",
   "version": "2.7.6"
  }
 },
 "nbformat": 4,
 "nbformat_minor": 0
}
