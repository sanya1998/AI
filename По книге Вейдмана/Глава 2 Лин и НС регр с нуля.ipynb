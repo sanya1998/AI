{
 "cells": [
  {
   "cell_type": "code",
   "execution_count": 142,
   "metadata": {
    "collapsed": true
   },
   "outputs": [],
   "source": [
    "import numpy as np\n",
    "from numpy import ndarray\n",
    "\n",
    "from typing import Callable, Dict, Tuple, List\n",
    "\n",
    "# В печати показывать только 4 цифры в числах с плавющей точкой\n",
    "np.set_printoptions(precision=4)"
   ]
  },
  {
   "cell_type": "markdown",
   "source": [
    "Boston data"
   ],
   "metadata": {
    "collapsed": false,
    "pycharm": {
     "name": "#%% md\n"
    }
   }
  },
  {
   "cell_type": "code",
   "execution_count": 143,
   "outputs": [],
   "source": [
    "from sklearn.datasets import load_boston\n",
    "from sklearn.metrics import r2_score"
   ],
   "metadata": {
    "collapsed": false,
    "pycharm": {
     "name": "#%%\n"
    }
   }
  },
  {
   "cell_type": "code",
   "execution_count": 144,
   "outputs": [],
   "source": [
    "boston = load_boston()"
   ],
   "metadata": {
    "collapsed": false,
    "pycharm": {
     "name": "#%%\n"
    }
   }
  },
  {
   "cell_type": "code",
   "execution_count": 145,
   "outputs": [],
   "source": [
    "data = boston.data\n",
    "target = boston.target\n",
    "features = boston.feature_names"
   ],
   "metadata": {
    "collapsed": false,
    "pycharm": {
     "name": "#%%\n"
    }
   }
  },
  {
   "cell_type": "code",
   "execution_count": 146,
   "outputs": [],
   "source": [
    "from sklearn.preprocessing import StandardScaler\n",
    "s = StandardScaler()\n",
    "data = s.fit_transform(data)"
   ],
   "metadata": {
    "collapsed": false,
    "pycharm": {
     "name": "#%%\n"
    }
   }
  },
  {
   "cell_type": "code",
   "execution_count": 147,
   "outputs": [],
   "source": [
    "from sklearn.model_selection import train_test_split\n",
    "X_train, X_test, y_train, y_test = train_test_split(data, target,\n",
    "                                                    test_size=0.3,\n",
    "                                                    random_state=80718)\n",
    "# (354,) => (354, 1)\n",
    "# или [36.2 15.  10.4] => [[36.2] [15.] [10.4]]\n",
    "y_train, y_test = y_train.reshape(-1, 1), y_test.reshape(-1, 1)"
   ],
   "metadata": {
    "collapsed": false,
    "pycharm": {
     "name": "#%%\n"
    }
   }
  },
  {
   "cell_type": "markdown",
   "source": [
    "Линейная регрессия из библиотеки"
   ],
   "metadata": {
    "collapsed": false,
    "pycharm": {
     "name": "#%% md\n"
    }
   }
  },
  {
   "cell_type": "code",
   "execution_count": 148,
   "outputs": [],
   "source": [
    "from sklearn.linear_model import LinearRegression\n",
    "# Данные необходимо централизовать fit_intercept=True\n",
    "lr = LinearRegression(fit_intercept=True)\n",
    "lr.fit(X_train, y_train)\n",
    "preds = lr.predict(X_test)"
   ],
   "metadata": {
    "collapsed": false,
    "pycharm": {
     "name": "#%%\n"
    }
   }
  },
  {
   "cell_type": "code",
   "execution_count": 149,
   "outputs": [],
   "source": [
    "import matplotlib.pyplot as plt"
   ],
   "metadata": {
    "collapsed": false,
    "pycharm": {
     "name": "#%%\n"
    }
   }
  },
  {
   "cell_type": "code",
   "execution_count": 150,
   "outputs": [
    {
     "data": {
      "text/plain": "[<matplotlib.lines.Line2D at 0x1814de7ee80>]"
     },
     "execution_count": 150,
     "metadata": {},
     "output_type": "execute_result"
    },
    {
     "data": {
      "text/plain": "<Figure size 432x288 with 1 Axes>",
      "image/png": "[encoded data removed]"
     },
     "metadata": {
      "needs_background": "light"
     },
     "output_type": "display_data"
    }
   ],
   "source": [
    "plt.xlabel(\"Predicted value\")\n",
    "plt.ylabel(\"Actual value\")\n",
    "plt.title(\"Predicted vs Actual values for\\nLinear Regression\")\n",
    "rightup = 60\n",
    "plt.xlim(([0, rightup]))\n",
    "plt.ylim(([0, rightup]))\n",
    "plt.scatter(preds, y_test)\n",
    "plt.plot([0, rightup], [0, rightup])\n",
    "# Пояснение: в идеале preds и y_test должны совпадать,\n",
    "# То есть точки должны быть на прямой y=x"
   ],
   "metadata": {
    "collapsed": false,
    "pycharm": {
     "name": "#%%\n"
    }
   }
  },
  {
   "cell_type": "markdown",
   "source": [
    "Ошибка модели"
   ],
   "metadata": {
    "collapsed": false,
    "pycharm": {
     "name": "#%% md\n"
    }
   }
  },
  {
   "cell_type": "code",
   "execution_count": 151,
   "outputs": [],
   "source": [
    "def mae(preds: ndarray, actuals: ndarray):\n",
    "    \"\"\"\n",
    "    Средняя абсолютная ошибка\n",
    "    \"\"\"\n",
    "    return np.mean(np.abs(preds - actuals))\n",
    "def rmse(preds: ndarray, actuals:ndarray):\n",
    "    '''\n",
    "    Средняя квадратическкая ошибка\n",
    "    :param preds:\n",
    "    :param actuals:\n",
    "    :return:\n",
    "    '''\n",
    "    return np.sqrt(np.mean(np.power(preds - actuals, 2)))"
   ],
   "metadata": {
    "collapsed": false,
    "pycharm": {
     "name": "#%%\n"
    }
   }
  },
  {
   "cell_type": "code",
   "execution_count": 152,
   "outputs": [
    {
     "name": "stdout",
     "output_type": "stream",
     "text": [
      "Mean absolute error:  3.5671\n",
      "Root mean squared error: 5.0476\n"
     ]
    }
   ],
   "source": [
    "print(\"Mean absolute error: \", round(mae(preds, y_test), 4))\n",
    "print(\"Root mean squared error:\", round(rmse(preds, y_test), 4))"
   ],
   "metadata": {
    "collapsed": false,
    "pycharm": {
     "name": "#%%\n"
    }
   }
  },
  {
   "cell_type": "code",
   "execution_count": 153,
   "outputs": [
    {
     "data": {
      "text/plain": "array([[-1.01,  0.71,  0.28,  0.71, -2.21,  2.38,  0.71, -2.66,  2.63,\n        -1.82, -2.33,  0.85, -4.19]])"
     },
     "execution_count": 153,
     "metadata": {},
     "output_type": "execute_result"
    }
   ],
   "source": [
    "np.round(lr.coef_, 2)"
   ],
   "metadata": {
    "collapsed": false,
    "pycharm": {
     "name": "#%%\n"
    }
   }
  },
  {
   "cell_type": "code",
   "execution_count": 154,
   "outputs": [
    {
     "data": {
      "text/plain": "Text(0.5, 1.0, 'Relationship between most\\nimportant feature and target')"
     },
     "execution_count": 154,
     "metadata": {},
     "output_type": "execute_result"
    },
    {
     "data": {
      "text/plain": "<Figure size 432x288 with 1 Axes>",
      "image/png": "[encoded data removed]"
     },
     "metadata": {
      "needs_background": "light"
     },
     "output_type": "display_data"
    }
   ],
   "source": [
    "most_important = mi = np.argmax(np.abs(lr.coef_))\n",
    "plt.scatter(X_test[:, mi], y_test)\n",
    "plt.xlabel(\"Most important feature from data\")\n",
    "plt.ylabel(\"Target\")\n",
    "plt.title(\"Relationship between most\\nimportant feature and target\")"
   ],
   "metadata": {
    "collapsed": false,
    "pycharm": {
     "name": "#%%\n"
    }
   }
  },
  {
   "cell_type": "markdown",
   "source": [
    "Своя линейная регрессия"
   ],
   "metadata": {
    "collapsed": false,
    "pycharm": {
     "name": "#%% md\n"
    }
   }
  },
  {
   "cell_type": "code",
   "execution_count": 155,
   "outputs": [],
   "source": [
    "def forward_loss(X_batch: ndarray,\n",
    "                              y_batch: ndarray,\n",
    "                              weights: Dict[str, ndarray]\n",
    "                              ) -> Tuple[Dict[str, ndarray], float]:\n",
    "    '''\n",
    "    Прямой проход для линейной регрессии\n",
    "    :param X_batch:\n",
    "    :param y_batch:\n",
    "    :param weights:\n",
    "    :return: кортеж из ошибки и результатов прямого прохода\n",
    "    '''\n",
    "    # Проверяем совпадение размеров X и y\n",
    "    assert X_batch.shape[0] == y_batch.shape[0]\n",
    "    # Проверяем допустимость умножения матриц\n",
    "    assert X_batch.shape[1] == weights['W'].shape[0]\n",
    "    # Проверяем, что B - это объект ndarray размером 1х1\n",
    "    assert weights['B'].shape[0] == weights['B'].shape[1] == 1\n",
    "\n",
    "    N = np.dot(X_batch, weights['W'])\n",
    "\n",
    "    P = N + weights['B']\n",
    "\n",
    "    # loss = np.mean(np.power(y_batch - P, 2))\n",
    "    loss = rmse(y_batch, P)\n",
    "\n",
    "    # сохранение информации, полученной во время прямого прохода\n",
    "    forward_info: Dict[str, ndarray] = {}\n",
    "    forward_info['X'] = X_batch\n",
    "    forward_info['N'] = N\n",
    "    forward_info['P'] = P\n",
    "    forward_info['y'] = y_batch\n",
    "\n",
    "    return forward_info, loss"
   ],
   "metadata": {
    "collapsed": false,
    "pycharm": {
     "name": "#%%\n"
    }
   }
  },
  {
   "cell_type": "code",
   "execution_count": 156,
   "outputs": [],
   "source": [
    "# Производная именно для среднеквадратической ошибкой\n",
    "# dLdP = -2 * (Y - P)\n",
    "# dPdN = np.ones_like(N)\n",
    "# dNdW = np.transpose(X, (1,0))\n",
    "# dPdB = np.ones_like(weight['B'])\n",
    "def loss_gradients(forward_info: Dict[str, ndarray],\n",
    "                   weights: Dict[str, ndarray]) -> Dict[str, ndarray]:\n",
    "    '''\n",
    "    Вычисление dLdW и dLdB для модели линейной регрессии\n",
    "    :param forward_info:\n",
    "    :param weights:\n",
    "    :return:\n",
    "    '''\n",
    "    batch_size = forward_info['X'].shape[0]\n",
    "\n",
    "    dLdP = -2 * (forward_info['y'] - forward_info['P'])\n",
    "    dPdN = np.ones_like(forward_info['N'])\n",
    "\n",
    "    dLdN = dLdP * dPdN\n",
    "    dNdW = np.transpose(forward_info['X'], (1, 0))\n",
    "\n",
    "    # умножение матриц, в котором первым идет компонент dNdW\n",
    "    dLdW = np.dot(dNdW, dLdN)\n",
    "\n",
    "    # суммирование по измерению, представляющему размер набора\n",
    "    dPdB = np.ones_like(weights['B'])\n",
    "    dLdB = (dLdP * dPdB)\n",
    "    dLdB = dLdB.sum(axis=0) # Автор позже объяснит, зачем это\n",
    "\n",
    "    loss_gradients: Dict[str, ndarray] = {}\n",
    "    loss_gradients['W'] = dLdW\n",
    "    loss_gradients['B'] = dLdB\n",
    "\n",
    "    return loss_gradients"
   ],
   "metadata": {
    "collapsed": false,
    "pycharm": {
     "name": "#%%\n"
    }
   }
  },
  {
   "cell_type": "code",
   "execution_count": 157,
   "outputs": [],
   "source": [
    "def to_2d_np(a: ndarray,\n",
    "             type: str = 'col') -> ndarray:\n",
    "    '''\n",
    "    Turns a 1D Tensor into 2D\n",
    "    :param a:\n",
    "    :param type:\n",
    "    :return:\n",
    "    '''\n",
    "    assert a.ndim == 1, \\\n",
    "    \"Input tensor must be 1 dimensional\"\n",
    "\n",
    "    if type == 'col':\n",
    "        return a.reshape(-1, 1)\n",
    "    elif type == 'row':\n",
    "        return a.reshape(1, -1)"
   ],
   "metadata": {
    "collapsed": false,
    "pycharm": {
     "name": "#%%\n"
    }
   }
  },
  {
   "cell_type": "code",
   "execution_count": 158,
   "outputs": [],
   "source": [
    "def permute_data(X: ndarray,\n",
    "                 y: ndarray):\n",
    "    \"\"\"Рандомная перестановка объектов\"\"\"\n",
    "    assert X.shape[0] == y.shape[0]\n",
    "    perm_ind = np.random.permutation(X.shape[0])\n",
    "    return X[perm_ind], y[perm_ind]"
   ],
   "metadata": {
    "collapsed": false,
    "pycharm": {
     "name": "#%%\n"
    }
   }
  },
  {
   "cell_type": "code",
   "execution_count": 159,
   "outputs": [],
   "source": [
    "Batch = Tuple[ndarray, ndarray]\n",
    "\n",
    "def generate_batch(X: ndarray,\n",
    "                   y: ndarray,\n",
    "                   start: int = 0,\n",
    "                   batch_size: int = 10\n",
    "                   ) -> Batch:\n",
    "    '''\n",
    "    Generate batch from X and y, given a start position\n",
    "    :param X:\n",
    "    :param y:\n",
    "    :param start:\n",
    "    :param batch_size:\n",
    "    :return:\n",
    "    '''\n",
    "    assert X.ndim == y.ndim == 2\n",
    "\n",
    "    if start+batch_size > X.shape[0]:\n",
    "        bach_size = X.shape[0] - start\n",
    "    X_batch, y_batch = X[start:start+batch_size], y[start:start + batch_size]\n",
    "\n",
    "    return X_batch, y_batch"
   ],
   "metadata": {
    "collapsed": false,
    "pycharm": {
     "name": "#%%\n"
    }
   }
  },
  {
   "cell_type": "code",
   "execution_count": 160,
   "outputs": [],
   "source": [
    "def init_weights(n_in: int) -> Dict[str, ndarray]:\n",
    "    \"\"\"Веса для первого прохода модели\"\"\"\n",
    "    weights: Dict[str, ndarray] = {}\n",
    "    W = np.random.rand(n_in, 1)\n",
    "    B = np.random.rand(1, 1)\n",
    "    weights['W'] = W\n",
    "    weights['B'] = B\n",
    "    return weights"
   ],
   "metadata": {
    "collapsed": false,
    "pycharm": {
     "name": "#%%\n"
    }
   }
  },
  {
   "cell_type": "code",
   "execution_count": 161,
   "outputs": [],
   "source": [
    "def train(X: ndarray,\n",
    "          y: ndarray,\n",
    "          n_iter: int = 100,\n",
    "          learning_rate: float = 0.01,\n",
    "          batch_size: int = 100,\n",
    "          seed: int = 1) -> Tuple[List, Dict[str, ndarray]]:\n",
    "    \"\"\"\n",
    "    Тренировка модели определенное количество раз\n",
    "    :param X:\n",
    "    :param y:\n",
    "    :param n_iter:\n",
    "    :param learning_rate:\n",
    "    :param batch_size:\n",
    "    :param seed:\n",
    "    :return:\n",
    "    \"\"\"\n",
    "    if seed:\n",
    "        np.random.seed(seed)\n",
    "    start = 0\n",
    "\n",
    "    weights = init_weights(X.shape[1])\n",
    "\n",
    "    X, y = permute_data(X, y)\n",
    "\n",
    "    losses = []\n",
    "\n",
    "    for i in range(n_iter):\n",
    "        # Generate batch\n",
    "        if start >= X.shape[0]:\n",
    "            X, y = permute_data(X, y)\n",
    "            start = 0\n",
    "\n",
    "        X_batch, y_batch = generate_batch(X, y, start, batch_size)\n",
    "\n",
    "        start += batch_size\n",
    "\n",
    "        forward_info, loss = forward_loss(X_batch, y_batch, weights)\n",
    "\n",
    "        losses.append(loss)\n",
    "\n",
    "        loss_grads = loss_gradients(forward_info, weights)\n",
    "        for key in weights.keys():\n",
    "            weights[key] -= learning_rate * loss_grads[key]\n",
    "\n",
    "    return losses, weights"
   ],
   "metadata": {
    "collapsed": false,
    "pycharm": {
     "name": "#%%\n"
    }
   }
  },
  {
   "cell_type": "code",
   "execution_count": 162,
   "outputs": [],
   "source": [
    "n_iter = 1000\n",
    "train_info = train(X_train, y_train,\n",
    "                   n_iter=n_iter,\n",
    "                   learning_rate=0.001,\n",
    "                   batch_size=23,\n",
    "                   seed=180708)\n",
    "losses = train_info[0]\n",
    "weights = train_info[1]"
   ],
   "metadata": {
    "collapsed": false,
    "pycharm": {
     "name": "#%%\n"
    }
   }
  },
  {
   "cell_type": "code",
   "execution_count": 163,
   "outputs": [
    {
     "name": "stdout",
     "output_type": "stream",
     "text": [
      "{'W': array([[-1.097 ],\n",
      "       [ 0.7415],\n",
      "       [ 0.2104],\n",
      "       [ 0.7458],\n",
      "       [-2.2873],\n",
      "       [ 2.1985],\n",
      "       [ 0.7221],\n",
      "       [-2.6368],\n",
      "       [ 2.5713],\n",
      "       [-1.7278],\n",
      "       [-2.3174],\n",
      "       [ 0.8444],\n",
      "       [-4.2567]]), 'B': array([[22.6313]])}\n",
      "3.531402385615203\n"
     ]
    },
    {
     "data": {
      "text/plain": "<Figure size 432x288 with 1 Axes>",
      "image/png": "[encoded data removed]"
     },
     "metadata": {
      "needs_background": "light"
     },
     "output_type": "display_data"
    }
   ],
   "source": [
    "plt.plot(list(range(n_iter)), losses)\n",
    "\n",
    "print(weights)\n",
    "print(losses[-1])"
   ],
   "metadata": {
    "collapsed": false,
    "pycharm": {
     "name": "#%%\n"
    }
   }
  },
  {
   "cell_type": "code",
   "execution_count": 164,
   "outputs": [],
   "source": [
    "def predict(X: ndarray,\n",
    "            weights: Dict[str, ndarray]):\n",
    "    \"\"\"\n",
    "    Генерация предсказаний для модели линейной регрессии\n",
    "    :param X:\n",
    "    :param weights:\n",
    "    :return:\n",
    "    \"\"\"\n",
    "    N = np.dot(X, weights['W'])\n",
    "    return N + weights['B']"
   ],
   "metadata": {
    "collapsed": false,
    "pycharm": {
     "name": "#%%\n"
    }
   }
  },
  {
   "cell_type": "code",
   "execution_count": 165,
   "outputs": [
    {
     "data": {
      "text/plain": "[<matplotlib.lines.Line2D at 0x1814f3eac10>]"
     },
     "execution_count": 165,
     "metadata": {},
     "output_type": "execute_result"
    },
    {
     "data": {
      "text/plain": "<Figure size 432x288 with 1 Axes>",
      "image/png": "[encoded data removed]"
     },
     "metadata": {
      "needs_background": "light"
     },
     "output_type": "display_data"
    }
   ],
   "source": [
    "preds = predict(X_test, weights)\n",
    "\n",
    "rightup = 60\n",
    "plt.xlim(([0, rightup]))\n",
    "plt.ylim(([0, rightup]))\n",
    "plt.scatter(preds, y_test)\n",
    "plt.plot([0, rightup], [0, rightup])"
   ],
   "metadata": {
    "collapsed": false,
    "pycharm": {
     "name": "#%%\n"
    }
   }
  },
  {
   "cell_type": "code",
   "execution_count": 166,
   "outputs": [
    {
     "name": "stdout",
     "output_type": "stream",
     "text": [
      "Mean absolute error:  3.5645\n",
      "Root mean squared error: 5.0489\n"
     ]
    }
   ],
   "source": [
    "print(\"Mean absolute error: \", round(mae(preds, y_test), 4))\n",
    "print(\"Root mean squared error:\", round(rmse(preds, y_test), 4))"
   ],
   "metadata": {
    "collapsed": false,
    "pycharm": {
     "name": "#%%\n"
    }
   }
  },
  {
   "cell_type": "code",
   "execution_count": 167,
   "outputs": [
    {
     "data": {
      "text/plain": "22.0776"
     },
     "execution_count": 167,
     "metadata": {},
     "output_type": "execute_result"
    }
   ],
   "source": [
    "np.round(y_test.mean(), 4)"
   ],
   "metadata": {
    "collapsed": false,
    "pycharm": {
     "name": "#%%\n"
    }
   }
  },
  {
   "cell_type": "code",
   "execution_count": 168,
   "outputs": [
    {
     "data": {
      "text/plain": "0.2287"
     },
     "execution_count": 168,
     "metadata": {},
     "output_type": "execute_result"
    }
   ],
   "source": [
    "np.round(rmse(preds, y_test)/y_test.mean(), 4)"
   ],
   "metadata": {
    "collapsed": false,
    "pycharm": {
     "name": "#%%\n"
    }
   }
  },
  {
   "cell_type": "code",
   "execution_count": 169,
   "outputs": [
    {
     "name": "stdout",
     "output_type": "stream",
     "text": [
      "X_test [[-0.4164  3.5896 -1.2339 ... -1.7364  0.3959 -1.2396]\n",
      " [ 1.6587 -0.4877  1.016  ...  0.8066  0.4064  1.2794]\n",
      " [ 0.2127 -0.4877  1.016  ...  0.8066 -0.0152  0.7117]\n",
      " ...\n",
      " [-0.3901 -0.4877 -0.1805 ... -0.0257  0.4345 -0.1308]\n",
      " [-0.416   1.7656 -0.8487 ... -0.8579  0.4411 -0.7728]\n",
      " [-0.4182  3.5896 -1.2339 ... -1.7364  0.3714 -1.3699]]\n",
      "X_test[:, : -1] [[-0.4164  3.5896 -1.2339 ... -1.0942 -1.7364  0.3959]\n",
      " [ 1.6587 -0.4877  1.016  ...  1.5309  0.8066  0.4064]\n",
      " [ 0.2127 -0.4877  1.016  ...  1.5309  0.8066 -0.0152]\n",
      " ...\n",
      " [-0.3901 -0.4877 -0.1805 ... -0.6191 -0.0257  0.4345]\n",
      " [-0.416   1.7656 -0.8487 ... -0.6844 -0.8579  0.4411]\n",
      " [-0.4182  3.5896 -1.2339 ... -1.0942 -1.7364  0.3714]]\n",
      "X_test[:, : -1].mean(axis=0, keepdims=True) [[-0.0094  0.0098 -0.0082  0.0904  0.0454 -0.0305  0.0165 -0.0188  0.011\n",
      "   0.0074  0.0507  0.0345]]\n",
      "a [[-0.0094  0.0098 -0.0082  0.0904  0.0454 -0.0305  0.0165 -0.0188  0.011\n",
      "   0.0074  0.0507  0.0345]\n",
      " [-0.0094  0.0098 -0.0082  0.0904  0.0454 -0.0305  0.0165 -0.0188  0.011\n",
      "   0.0074  0.0507  0.0345]\n",
      " [-0.0094  0.0098 -0.0082  0.0904  0.0454 -0.0305  0.0165 -0.0188  0.011\n",
      "   0.0074  0.0507  0.0345]]\n",
      "(40, 1)\n",
      "(40,)\n"
     ]
    }
   ],
   "source": [
    "NUM = 40\n",
    "\n",
    "# arr.sum(keepdims=True)) -> [15]\n",
    "# arr.sum(keepdims=False)) -> 15\n",
    "\n",
    "a = np.repeat(X_test[:, : -1].mean(axis=0, keepdims=True), NUM, axis=0)\n",
    "b = np.linspace(-1.5, 3.5, NUM).reshape(NUM, 1)\n",
    "print(\"X_test\", X_test)\n",
    "print(\"X_test[:, : -1]\", X_test[:, : -1])\n",
    "print(\"X_test[:, : -1].mean(axis=0, keepdims=True)\" , X_test[:, : -1].mean(axis=0, keepdims=True))\n",
    "print(\"a\", a[:3])\n",
    "\n",
    "\n",
    "test_feature = np.concatenate([a, b], axis=1)\n",
    "\n",
    "test_preds = predict(test_feature, weights)\n",
    "print(test_preds.shape)\n",
    "test_preds = test_preds[:, 0]\n",
    "print(test_preds.shape)"
   ],
   "metadata": {
    "collapsed": false,
    "pycharm": {
     "name": "#%%\n"
    }
   }
  },
  {
   "cell_type": "code",
   "execution_count": 170,
   "outputs": [
    {
     "data": {
      "text/plain": "Text(0, 0.5, 'Target/Predictions')"
     },
     "execution_count": 170,
     "metadata": {},
     "output_type": "execute_result"
    },
    {
     "data": {
      "text/plain": "<Figure size 432x288 with 1 Axes>",
      "image/png": "[encoded data removed]"
     },
     "metadata": {
      "needs_background": "light"
     },
     "output_type": "display_data"
    }
   ],
   "source": [
    "plt.scatter(X_test[:, mi], y_test)\n",
    "# plt.plot(np.array(b), test_preds, linewidth=2, c='orange')\n",
    "plt.plot(np.array(test_feature[:, -1]), test_preds, linewidth=2, c='orange')\n",
    "plt.ylim([6, 51])\n",
    "plt.xlabel(\"Most important feature (normalized)\")\n",
    "plt.ylabel(\"Target/Predictions\")\n"
   ],
   "metadata": {
    "collapsed": false,
    "pycharm": {
     "name": "#%%\n"
    }
   }
  },
  {
   "cell_type": "markdown",
   "source": [
    "Coefficients"
   ],
   "metadata": {
    "collapsed": false,
    "pycharm": {
     "name": "#%% md\n"
    }
   }
  },
  {
   "cell_type": "code",
   "execution_count": 171,
   "outputs": [
    {
     "data": {
      "text/plain": "array([-1.097 ,  0.7415,  0.2104,  0.7458, -2.2873,  2.1985,  0.7221,\n       -2.6368,  2.5713, -1.7278, -2.3174,  0.8444, -4.2567])"
     },
     "execution_count": 171,
     "metadata": {},
     "output_type": "execute_result"
    }
   ],
   "source": [
    "# Перевод в одномерный массив (коэф своей линейной регрессии)\n",
    "np.round(weights['W'].reshape(-1), 4)"
   ],
   "metadata": {
    "collapsed": false,
    "pycharm": {
     "name": "#%%\n"
    }
   }
  },
  {
   "cell_type": "code",
   "execution_count": 172,
   "outputs": [
    {
     "data": {
      "text/plain": "array([[-1.0148,  0.7065,  0.276 ,  0.7092, -2.206 ,  2.3793,  0.7133,\n        -2.6625,  2.6325, -1.8172, -2.3266,  0.8465, -4.1889]])"
     },
     "execution_count": 172,
     "metadata": {},
     "output_type": "execute_result"
    }
   ],
   "source": [
    "# (коэф лин регрессии из scikit)\n",
    "np.round(lr.coef_, 4)"
   ],
   "metadata": {
    "collapsed": false,
    "pycharm": {
     "name": "#%%\n"
    }
   }
  },
  {
   "cell_type": "code",
   "execution_count": 173,
   "outputs": [
    {
     "data": {
      "text/plain": "array([[22.6313]])"
     },
     "execution_count": 173,
     "metadata": {},
     "output_type": "execute_result"
    }
   ],
   "source": [
    "np.round(weights['B'], 4)"
   ],
   "metadata": {
    "collapsed": false,
    "pycharm": {
     "name": "#%%\n"
    }
   }
  },
  {
   "cell_type": "code",
   "execution_count": 174,
   "outputs": [
    {
     "data": {
      "text/plain": "array([22.6195])"
     },
     "execution_count": 174,
     "metadata": {},
     "output_type": "execute_result"
    }
   ],
   "source": [
    "np.round(lr.intercept_, 4)"
   ],
   "metadata": {
    "collapsed": false,
    "pycharm": {
     "name": "#%%\n"
    }
   }
  },
  {
   "cell_type": "code",
   "execution_count": 175,
   "outputs": [
    {
     "data": {
      "text/plain": "(6.0, 51.0)"
     },
     "execution_count": 175,
     "metadata": {},
     "output_type": "execute_result"
    },
    {
     "data": {
      "text/plain": "<Figure size 432x288 with 1 Axes>",
      "image/png": "[encoded data removed]"
     },
     "metadata": {
      "needs_background": "light"
     },
     "output_type": "display_data"
    }
   ],
   "source": [
    "NUM = 40\n",
    "a = np.repeat(X_test[:,:-1].mean(axis=0, keepdims=True), NUM, axis=0)\n",
    "b = np.linspace(-1.5, 3.5, NUM).reshape(NUM, 1)\n",
    "test_feature = np.concatenate([a, b], axis=1)\n",
    "preds = predict(test_feature, weights).reshape(-1)\n",
    "plt.scatter(np.array(test_feature[:, -1]), np.array(preds))\n",
    "plt.ylim([6, 51])"
   ],
   "metadata": {
    "collapsed": false,
    "pycharm": {
     "name": "#%%\n"
    }
   }
  },
  {
   "cell_type": "markdown",
   "source": [
    "Neural network regression"
   ],
   "metadata": {
    "collapsed": false,
    "pycharm": {
     "name": "#%% md\n"
    }
   }
  },
  {
   "cell_type": "code",
   "execution_count": 176,
   "outputs": [],
   "source": [
    "def sigmoid(x: ndarray) -> ndarray:\n",
    "    return 1 / (1 + np.exp(-1.0 * x))"
   ],
   "metadata": {
    "collapsed": false,
    "pycharm": {
     "name": "#%%\n"
    }
   }
  },
  {
   "cell_type": "code",
   "execution_count": 177,
   "outputs": [
    {
     "data": {
      "text/plain": "[<matplotlib.lines.Line2D at 0x1814f4f1520>]"
     },
     "execution_count": 177,
     "metadata": {},
     "output_type": "execute_result"
    },
    {
     "data": {
      "text/plain": "<Figure size 432x288 with 1 Axes>",
      "image/png": "[encoded data removed]"
     },
     "metadata": {
      "needs_background": "light"
     },
     "output_type": "display_data"
    }
   ],
   "source": [
    "plt.plot(np.arange(-5, 5, 0.01),\n",
    "         sigmoid(np.arange(-5, 5, 0.01)))"
   ],
   "metadata": {
    "collapsed": false,
    "pycharm": {
     "name": "#%%\n"
    }
   }
  },
  {
   "cell_type": "code",
   "execution_count": 178,
   "outputs": [],
   "source": [
    "def init_weights(input_size: int,\n",
    "                 hidden_size: int) -> Dict[str, ndarray]:\n",
    "    \"\"\"\n",
    "    Инициализация весов для прямого прохождения шаг за шагов НС\n",
    "    :param input_size:\n",
    "    :param hidden_size:\n",
    "    :return:\n",
    "    \"\"\"\n",
    "    weights: Dict[str, ndarray] = {}\n",
    "    # input_size x hidden_size\n",
    "    weights['W1'] = np.random.randn(input_size, hidden_size)\n",
    "    weights['B1'] = np.random.randn(1, hidden_size)\n",
    "    # Скрытый слой (2 слой) состоит из hidden_size нейронов\n",
    "    weights['W2'] = np.random.randn(hidden_size, 1)\n",
    "    weights['B2'] = np.random.randn(1, 1)\n",
    "    return weights"
   ],
   "metadata": {
    "collapsed": false,
    "pycharm": {
     "name": "#%%\n"
    }
   }
  },
  {
   "cell_type": "code",
   "execution_count": 179,
   "outputs": [],
   "source": [
    "def forward_loss(X: ndarray,\n",
    "                 y: ndarray,\n",
    "                 weights: Dict[str, ndarray]\n",
    "                 ) -> Tuple[Dict[str, ndarray], float]:\n",
    "    \"\"\"\n",
    "    Прямой проход через модель нейронной сети и определение величины потерь\n",
    "    :param X:\n",
    "    :param y:\n",
    "    :param weights:\n",
    "    :return:\n",
    "    \"\"\"\n",
    "    M1 = np.dot(X, weights['W1'])\n",
    "    N1 = M1 + weights['B1']\n",
    "    O1 = sigmoid(N1)\n",
    "\n",
    "    M2 = np.dot(O1, weights['W2'])\n",
    "\n",
    "    P = M2 + weights['B2']\n",
    "\n",
    "    loss = np.mean(np.power(y-P, 2))\n",
    "\n",
    "    forward_info: Dict[str, ndarray] = {\n",
    "        'X': X, 'M1': M1, 'N1': N1, 'O1': O1,\n",
    "        'M2': M2, 'P': P, 'y': y}\n",
    "\n",
    "    return forward_info, loss"
   ],
   "metadata": {
    "collapsed": false,
    "pycharm": {
     "name": "#%%\n"
    }
   }
  },
  {
   "cell_type": "code",
   "execution_count": 180,
   "outputs": [],
   "source": [
    "def loss_gradients(forward_info: Dict[str, ndarray],\n",
    "                   weights: Dict[str, ndarray]) -> Dict[str, ndarray]:\n",
    "    \"\"\"\n",
    "    Вычисление градиента потерь по каждому из весов\n",
    "    :param forward_info:\n",
    "    :param weights:\n",
    "    :return:\n",
    "    \"\"\"\n",
    "    # В предыдущем примере умножалось на два еще\n",
    "    dLdP = -(forward_info['y'] - forward_info['P'])\n",
    "    dPdM2 = np.ones_like(forward_info['M2'])\n",
    "    dLdM2 = dLdP*dPdM2\n",
    "    dPdB2 = np.ones_like(weights['B2'])\n",
    "    dLdB2 = (dLdP *dPdB2).sum(axis=0)\n",
    "    dM2dW2 = np.transpose(forward_info['O1'], (1, 0))\n",
    "    dLdW2 = np.dot(dM2dW2, dLdP)\n",
    "    dM2dO1 = np.transpose(weights['W2'], (1, 0))\n",
    "    dLdO1 = np.dot(dLdM2, dM2dO1)\n",
    "    dO1dN1 = sigmoid(forward_info['N1'])*(1-sigmoid(forward_info['N1']))\n",
    "    dLdN1 = dLdO1 *dO1dN1\n",
    "    dN1dB1 = np.ones_like(weights['B1'])\n",
    "    dN1dM1 = np.ones_like(forward_info['M1'])\n",
    "    dLdB1 = (dLdN1 * dN1dB1).sum(axis=0)\n",
    "    dLdM1 = dLdN1 * dN1dM1\n",
    "    dM1dW1 = np.transpose(forward_info['X'], (1, 0))\n",
    "    dLdW1 = np.dot(dM1dW1, dLdM1)\n",
    "    loss_gradients: Dict[str, ndarray] = {\n",
    "        'W2': dLdW2,\n",
    "        'B2': dLdB2,\n",
    "        'W1': dLdW1,\n",
    "        'B1': dLdB1\n",
    "    }\n",
    "\n",
    "    return loss_gradients"
   ],
   "metadata": {
    "collapsed": false,
    "pycharm": {
     "name": "#%%\n"
    }
   }
  },
  {
   "cell_type": "code",
   "execution_count": 181,
   "outputs": [],
   "source": [
    "def predict(X: ndarray,\n",
    "            weights: Dict[str, ndarray]) -> ndarray:\n",
    "    \"\"\"\n",
    "    Генерация предсказаний моделью нейронной сети\n",
    "    :param X:\n",
    "    :param weights:\n",
    "    :return:\n",
    "    \"\"\"\n",
    "    M1 = np.dot(X, weights['W1'])\n",
    "    N1 = M1 + weights['B1']\n",
    "    O1 = sigmoid(N1)\n",
    "    M2 = np.dot(O1, weights['W2'])\n",
    "    P = M2 + weights[\"B2\"]\n",
    "\n",
    "    return P"
   ],
   "metadata": {
    "collapsed": false,
    "pycharm": {
     "name": "#%%\n"
    }
   }
  },
  {
   "cell_type": "code",
   "execution_count": 182,
   "outputs": [],
   "source": [
    "def train(X_train: ndarray, y_train: ndarray,\n",
    "          X_test: ndarray, y_test: ndarray,\n",
    "          n_iter: int=1000,\n",
    "          test_every: int=1000,\n",
    "          learning_rate: float=0.01,\n",
    "          hidden_size: int=13,\n",
    "          batch_size:int=100,\n",
    "          seed: int=1) -> (List[float], Dict[str, ndarray], List[float]):\n",
    "    if seed:\n",
    "        np.random.seed(seed)\n",
    "    start = 0\n",
    "    weights = init_weights(X_train.shape[1],\n",
    "                           hidden_size=hidden_size)\n",
    "\n",
    "    X_train, y_train = permute_data(X_train, y_train)\n",
    "\n",
    "    losses = []\n",
    "\n",
    "    val_scores = []\n",
    "\n",
    "    for i in range(n_iter):\n",
    "        if start >= X_train.shape[0]:\n",
    "            X_train, y_train = permute_data(X_train, y_train)\n",
    "            start = 0\n",
    "        X_batch, y_batch = generate_batch(X_train, y_train, start, batch_size)\n",
    "        start += batch_size\n",
    "\n",
    "        forward_info, loss = forward_loss(X_batch, y_batch,weights)\n",
    "\n",
    "        losses.append(loss)\n",
    "\n",
    "        loss_grads = loss_gradients(forward_info, weights)\n",
    "        for key in weights.keys():\n",
    "            weights[key] -= learning_rate * loss_grads[key]\n",
    "\n",
    "        # Эти результаты не влияют на обучение, поэтому можем\n",
    "        # для наглядности смотреть как изменяется точность\n",
    "        # на тестовом наборе\n",
    "        if i % test_every == 0 and i != 0:\n",
    "            preds = predict(X_test, weights)\n",
    "            val_scores.append(r2_score(preds, y_test))\n",
    "    return  losses, weights, val_scores"
   ],
   "metadata": {
    "collapsed": false,
    "pycharm": {
     "name": "#%%\n"
    }
   }
  },
  {
   "cell_type": "code",
   "execution_count": 183,
   "outputs": [],
   "source": [
    "num_iter = 10000\n",
    "# Проверять на тестовых каждые test_every раз\n",
    "test_every = 100\n",
    "train_info = train(X_train, y_train, X_test, y_test,\n",
    "                   n_iter=num_iter,\n",
    "                   test_every=test_every,\n",
    "                   learning_rate=0.001,\n",
    "                   batch_size=23,\n",
    "                   seed=80718)\n",
    "losses = train_info[0]\n",
    "weights = train_info[1]\n",
    "val_scores = train_info[2]"
   ],
   "metadata": {
    "collapsed": false,
    "pycharm": {
     "name": "#%%\n"
    }
   }
  },
  {
   "cell_type": "code",
   "execution_count": 184,
   "outputs": [
    {
     "data": {
      "text/plain": "Text(0.5, 1.0, 'Validation Scores')"
     },
     "execution_count": 184,
     "metadata": {},
     "output_type": "execute_result"
    },
    {
     "data": {
      "text/plain": "<Figure size 432x288 with 1 Axes>",
      "image/png": "[encoded data removed]"
     },
     "metadata": {
      "needs_background": "light"
     },
     "output_type": "display_data"
    }
   ],
   "source": [
    "plt.ylim([-1, 1])\n",
    "plt.plot(list(range(int(num_iter / test_every -1))), val_scores)\n",
    "plt.xlabel(\"Batches (000s)\")\n",
    "plt.title(\"Validation Scores\")\n"
   ],
   "metadata": {
    "collapsed": false,
    "pycharm": {
     "name": "#%%\n"
    }
   }
  },
  {
   "cell_type": "code",
   "execution_count": 185,
   "outputs": [
    {
     "name": "stdout",
     "output_type": "stream",
     "text": [
      "Mean absolute error:  2.4364\n",
      "Root mean squared error: 3.5196\n"
     ]
    }
   ],
   "source": [
    "preds = predict(X_test, weights)\n",
    "print(\"Mean absolute error: \", round(mae(preds, y_test), 4))\n",
    "print(\"Root mean squared error:\", round(rmse(preds, y_test), 4))\n"
   ],
   "metadata": {
    "collapsed": false,
    "pycharm": {
     "name": "#%%\n"
    }
   }
  },
  {
   "cell_type": "markdown",
   "source": [
    "Learning rate tuning"
   ],
   "metadata": {
    "collapsed": false,
    "pycharm": {
     "name": "#%% md\n"
    }
   }
  },
  {
   "cell_type": "code",
   "execution_count": 186,
   "outputs": [],
   "source": [
    "def r2_score_lr(learning_rate):\n",
    "    train_info = train(X_train, y_train, X_test, y_test,\n",
    "                       n_iter=10000,\n",
    "                       test_every=100,\n",
    "                       learning_rate=learning_rate,\n",
    "                       batch_size=13,\n",
    "                       seed=80718)\n",
    "    weights = train_info[1]\n",
    "    preds = predict(X_test, weights)\n",
    "    return  r2_score(y_test, preds)"
   ],
   "metadata": {
    "collapsed": false,
    "pycharm": {
     "name": "#%%\n"
    }
   }
  },
  {
   "cell_type": "code",
   "execution_count": 187,
   "outputs": [
    {
     "data": {
      "text/plain": "[<matplotlib.lines.Line2D at 0x1814f5f56d0>]"
     },
     "execution_count": 187,
     "metadata": {},
     "output_type": "execute_result"
    },
    {
     "data": {
      "text/plain": "<Figure size 432x288 with 1 Axes>",
      "image/png": "[encoded data removed]"
     },
     "metadata": {
      "needs_background": "light"
     },
     "output_type": "display_data"
    }
   ],
   "source": [
    "lrs = np.geomspace(1e-2, 1e-6, num=20)\n",
    "r2s = [r2_score_lr(lr) for lr in lrs]\n",
    "plt.semilogx(lrs,r2s)"
   ],
   "metadata": {
    "collapsed": false,
    "pycharm": {
     "name": "#%%\n"
    }
   }
  },
  {
   "cell_type": "markdown",
   "source": [
    "Evaluting best model"
   ],
   "metadata": {
    "collapsed": false,
    "pycharm": {
     "name": "#%% md\n"
    }
   }
  },
  {
   "cell_type": "code",
   "execution_count": 188,
   "outputs": [],
   "source": [
    "train_info = train(X_train, y_train, X_test, y_test,\n",
    "                   n_iter=10000,\n",
    "                   learning_rate=0.001,\n",
    "                   batch_size=23,\n",
    "                   seed=180807)\n",
    "losses = train_info[0]\n",
    "weights = train_info[1]"
   ],
   "metadata": {
    "collapsed": false,
    "pycharm": {
     "name": "#%%\n"
    }
   }
  },
  {
   "cell_type": "code",
   "execution_count": 189,
   "outputs": [
    {
     "data": {
      "text/plain": "[<matplotlib.lines.Line2D at 0x1814f3c8e50>]"
     },
     "execution_count": 189,
     "metadata": {},
     "output_type": "execute_result"
    },
    {
     "data": {
      "text/plain": "<Figure size 432x288 with 1 Axes>",
      "image/png": "[encoded data removed]"
     },
     "metadata": {
      "needs_background": "light"
     },
     "output_type": "display_data"
    }
   ],
   "source": [
    "plt.plot(list(range(10000)), losses)"
   ],
   "metadata": {
    "collapsed": false,
    "pycharm": {
     "name": "#%%\n"
    }
   }
  },
  {
   "cell_type": "code",
   "execution_count": 190,
   "outputs": [],
   "source": [
    "preds = predict(X_test, weights)"
   ],
   "metadata": {
    "collapsed": false,
    "pycharm": {
     "name": "#%%\n"
    }
   }
  },
  {
   "cell_type": "code",
   "execution_count": 191,
   "outputs": [
    {
     "data": {
      "text/plain": "[<matplotlib.lines.Line2D at 0x1814f646700>]"
     },
     "execution_count": 191,
     "metadata": {},
     "output_type": "execute_result"
    },
    {
     "data": {
      "text/plain": "<Figure size 432x288 with 1 Axes>",
      "image/png": "[encoded data removed]"
     },
     "metadata": {
      "needs_background": "light"
     },
     "output_type": "display_data"
    }
   ],
   "source": [
    "plt.scatter(preds, y_test)\n",
    "plt.plot([0, 51], [0, 51])"
   ],
   "metadata": {
    "collapsed": false,
    "pycharm": {
     "name": "#%%\n"
    }
   }
  },
  {
   "cell_type": "code",
   "execution_count": 192,
   "outputs": [
    {
     "data": {
      "text/plain": "(6.0, 51.0)"
     },
     "execution_count": 192,
     "metadata": {},
     "output_type": "execute_result"
    },
    {
     "data": {
      "text/plain": "<Figure size 432x288 with 1 Axes>",
      "image/png": "[encoded data removed]"
     },
     "metadata": {
      "needs_background": "light"
     },
     "output_type": "display_data"
    }
   ],
   "source": [
    "NUM = 40\n",
    "a = np.repeat(X_test[:,:-1].mean(axis=0, keepdims=True), NUM, axis=0)\n",
    "b = np.linspace(-1.5, 3.5, NUM).reshape(NUM, 1)\n",
    "test_feature = np.concatenate([a, b], axis=1)\n",
    "preds_test = predict(test_feature, weights)[:, 0]\n",
    "\n",
    "plt.scatter(X_test[:, 12], preds)\n",
    "plt.plot(np.array(test_feature[:, -1]), preds_test, linewidth=2, c='orange')\n",
    "plt.ylim([6, 51])"
   ],
   "metadata": {
    "collapsed": false,
    "pycharm": {
     "name": "#%%\n"
    }
   }
  }
 ],
 "metadata": {
  "kernelspec": {
   "display_name": "Python 3",
   "language": "python",
   "name": "python3"
  },
  "language_info": {
   "codemirror_mode": {
    "name": "ipython",
    "version": 2
   },
   "file_extension": ".py",
   "mimetype": "text/x-python",
   "name": "python",
   "nbconvert_exporter": "python",
   "pygments_lexer": "ipython2",
   "version": "2.7.6"
  }
 },
 "nbformat": 4,
 "nbformat_minor": 0
}
